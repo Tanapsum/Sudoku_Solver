{
 "cells": [
  {
   "cell_type": "markdown",
   "id": "d16c5805",
   "metadata": {},
   "source": [
    "### For Generating Puzzle"
   ]
  },
  {
   "cell_type": "code",
   "execution_count": 22,
   "id": "88a9c5a9",
   "metadata": {},
   "outputs": [
    {
     "name": "stdout",
     "output_type": "stream",
     "text": [
      "Solution :\n",
      "[3, 8, 2, 7, 6, 4, 1, 9, 5]\n",
      "[7, 6, 4, 9, 1, 5, 3, 2, 8]\n",
      "[1, 5, 9, 3, 8, 2, 6, 7, 4]\n",
      "[6, 4, 7, 1, 5, 9, 8, 3, 2]\n",
      "[5, 9, 1, 8, 2, 3, 4, 6, 7]\n",
      "[8, 2, 3, 6, 4, 7, 5, 1, 9]\n",
      "[4, 7, 6, 5, 9, 1, 2, 8, 3]\n",
      "[2, 3, 8, 4, 7, 6, 9, 5, 1]\n",
      "[9, 1, 5, 2, 3, 8, 7, 4, 6]\n",
      "\n",
      "Puzzle: \n",
      "3 8 0 7 6 0 1 0 5 \n",
      "0 0 0 9 0 0 0 2 8 \n",
      "1 5 0 3 0 2 0 7 4 \n",
      "6 0 7 1 0 9 8 3 2 \n",
      "5 0 1 8 2 3 4 0 7 \n",
      "8 2 3 0 4 7 0 0 9 \n",
      "4 7 0 5 0 1 2 8 3 \n",
      "0 0 0 4 7 6 0 5 1 \n",
      "9 0 5 2 0 8 0 0 0 \n"
     ]
    }
   ],
   "source": [
    "# PUZZLE GENERATOR\n",
    "\n",
    "from random import sample\n",
    "\n",
    "#----- CHOOSE SIZE HERE (3 for 9x9 , 4 for 16x16 , 5 for 25x25) -----\n",
    "BN  = 3  \n",
    "#--------------------------------------------------------------------\n",
    "\n",
    "SIZE  = BN*BN\n",
    "\n",
    "def Shuffle(s):\n",
    "    return sample(s,len(s)) \n",
    "\n",
    "# ---------- MAKE ROWS & COLS LIST---------------\n",
    "rows = []\n",
    "cols = []\n",
    "\n",
    "for r in Shuffle(range(BN)): # 0 , 1 \n",
    "    #print(r)\n",
    "    for g in Shuffle(range(BN)): # 0 , 1 , 2 , 3 | 0 , 1\n",
    "    #print(g)\n",
    "        rows.append(BN*g + r)  # 4*0+0=0 , 4*1+0=4 , 4*2+0=8 , 4*3+0=12 | 4*0+1=1 , 4*1+1 = 5 , ...\n",
    "# print(\"rows:\")\n",
    "# print(rows)\n",
    "\n",
    "for c in Shuffle(range(BN)):\n",
    "    for g in Shuffle(range(BN)):\n",
    "        cols.append(BN*g + c)\n",
    "# print(\"cols:\")\n",
    "# print(cols)\n",
    "\n",
    "#----------- Create a list ---------------\n",
    "nums = Shuffle(range(1,SIZE+1)) # range(1,10) = 1 ... 9\n",
    "# print(\"nums :\")\n",
    "# print(nums)\n",
    "\n",
    "#----------- generate the Full Sudoku ------------\n",
    "def pattern(r,c):\n",
    "    return (BN*(r%BN)+r//BN+c)%SIZE # ( 3*(r%3)+r // 3+c ) % 9\n",
    "\n",
    "board = [ [nums[pattern(r,c)] for c in cols] for r in rows ]\n",
    "\n",
    "print(\"Solution :\")\n",
    "for i in board:\n",
    "    print(i)\n",
    "\n",
    "# ----------- Delete some data ------------\n",
    "box = SIZE*SIZE\n",
    "blank = (box * 3) // 8\n",
    "\n",
    "for p in sample(range(box),blank):\n",
    "    #print(p)\n",
    "    board[p//SIZE][p%SIZE] = 0  \n",
    "\n",
    "numSize = len(str(SIZE)) \n",
    "\n",
    "#----------- generate the Final Puzzle ------------\n",
    "print(\"\\nPuzzle: \")\n",
    "for i in board:\n",
    "    print(\" \".join(f\"{n or '0':{numSize}}\" for n in i)+\" \") \n"
   ]
  },
  {
   "cell_type": "code",
   "execution_count": null,
   "id": "6254bf23",
   "metadata": {},
   "outputs": [],
   "source": []
  }
 ],
 "metadata": {
  "kernelspec": {
   "display_name": "Python 3 (ipykernel)",
   "language": "python",
   "name": "python3"
  },
  "language_info": {
   "codemirror_mode": {
    "name": "ipython",
    "version": 3
   },
   "file_extension": ".py",
   "mimetype": "text/x-python",
   "name": "python",
   "nbconvert_exporter": "python",
   "pygments_lexer": "ipython3",
   "version": "3.9.7"
  }
 },
 "nbformat": 4,
 "nbformat_minor": 5
}
